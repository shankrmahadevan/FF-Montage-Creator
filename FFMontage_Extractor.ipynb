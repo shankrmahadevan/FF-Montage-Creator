{
  "nbformat": 4,
  "nbformat_minor": 0,
  "metadata": {
    "colab": {
      "name": "FFMontage Extractor",
      "provenance": [],
      "collapsed_sections": [],
      "mount_file_id": "1M6A6tS_rF42i9kzkdTf6cjs_6mIeLNGy",
      "authorship_tag": "ABX9TyOOH10uWgg8t43HvVikTGlU",
      "include_colab_link": true
    },
    "kernelspec": {
      "name": "python3",
      "display_name": "Python 3"
    },
    "accelerator": "GPU"
  },
  "cells": [
    {
      "cell_type": "markdown",
      "metadata": {
        "id": "view-in-github",
        "colab_type": "text"
      },
      "source": [
        "<a href=\"https://colab.research.google.com/github/shankrmahadevan/FF-Montage-Creator/blob/main/FFMontage_Extractor.ipynb\" target=\"_parent\"><img src=\"https://colab.research.google.com/assets/colab-badge.svg\" alt=\"Open In Colab\"/></a>"
      ]
    },
    {
      "cell_type": "code",
      "metadata": {
        "id": "T2E-9NKUbgw_",
        "cellView": "form"
      },
      "source": [
        "#@title Click Play And Wait For Few Minutes\n",
        "%%capture\n",
        "from tensorflow.keras import backend as K\n",
        "K.clear_session()\n",
        "!git clone https://github.com/shankrmahadevan/FF-Montage-Creator.git\n",
        "!pip install youtube_dl\n",
        "import sys\n",
        "sys.path.append('/content/FF-Montage-Creator')\n",
        "import ffmontage\n",
        "\n",
        "extractor = ffmontage.FFMontage()"
      ],
      "execution_count": null,
      "outputs": []
    },
    {
      "cell_type": "code",
      "metadata": {
        "id": "M5A6W_4DcicF",
        "cellView": "form"
      },
      "source": [
        "#@title Click play once the above process is done, for extracting Montage\n",
        "extractor.video_process()"
      ],
      "execution_count": null,
      "outputs": []
    }
  ]
}